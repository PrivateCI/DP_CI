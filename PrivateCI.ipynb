{
 "cells": [
  {
   "cell_type": "code",
   "execution_count": 159,
   "id": "67e2074c",
   "metadata": {},
   "outputs": [],
   "source": [
    "import random\n",
    "import math\n",
    "import numpy as np\n",
    "import copy"
   ]
  },
  {
   "cell_type": "code",
   "execution_count": 545,
   "id": "632fe3e7",
   "metadata": {},
   "outputs": [],
   "source": [
    "mu = 50\n",
    "sigma = 20\n",
    "n = 2000\n",
    "b = 0.1\n",
    "beta = 0.1\n",
    "eps=1\n",
    "D = np.random.normal(mu,sigma,n)\n",
    "D.sort()\n",
    "width = D[n-1]-D[0]\n",
    "intD = discretize(D,b)"
   ]
  },
  {
   "cell_type": "code",
   "execution_count": 546,
   "id": "186a8511",
   "metadata": {},
   "outputs": [],
   "source": [
    "def discretize(D, b):    \n",
    "    n = len(D)\n",
    "    discreteD = np.zeros(n)\n",
    "    for i in range(n):\n",
    "        discreteD[i] = int(D[i]/b)\n",
    "    return discreteD\n",
    "\n",
    "def shiftD(D,x):\n",
    "    #shift towards left\n",
    "    return D-x\n",
    "    \n",
    "def count(D, a, b):\n",
    "    counter = 0\n",
    "    n = len(D)\n",
    "    for i in range(n):\n",
    "        if D[i] >=a and D[i]<=b:\n",
    "            counter+=1\n",
    "    return counter\n",
    "\n",
    "def clip(D, a, b):\n",
    "    clipped = copy.deepcopy(D)\n",
    "    clipped[clipped<a] = a\n",
    "    clipped[clipped>b] = b\n",
    "    return clipped\n",
    "\n",
    "def LapNoise():\n",
    "    a = random.uniform(0,1)\n",
    "    b = math.log(1/(1-a))\n",
    "    c = random.uniform(0,1)\n",
    "    if c>0.5:\n",
    "        return b\n",
    "    else:\n",
    "        return -b\n",
    "    \n",
    "def finiteDomainQuantile(eps, beta, tau, a,b, D):\n",
    "    #[a,b] denotes range\n",
    "    n = len(D)\n",
    "    u = np.zeros(n+2)#utility score\n",
    "    l = np.zeros(n+3)#score changing point\n",
    "    l[0] = a\n",
    "    for i in range(n+2):\n",
    "        if i<=n/2:\n",
    "            u[i] = -n/2-1+i\n",
    "            l[i+1]= D[i]\n",
    "        u[int(n/2+1)] = 0\n",
    "        l[int(n/2+2)] = D[int(n/2)]\n",
    "        if i>n/2+1:\n",
    "            u[i] = n/2+1-i\n",
    "            l[i]= D[i-2]\n",
    "            \n",
    "    l[n+2] = b\n",
    "    weight = np.zeros(n+2)\n",
    "    for i in range(n+2):\n",
    "        weight[i] = (l[i+1]-l[i])*math.pow(np.e, eps*u[i]/2)\n",
    "    weight[int(n/2+1)] = math.pow(np.e, 0)\n",
    "    \n",
    "    totalWeight = sum(weight)\n",
    "    weight = weight/totalWeight\n",
    "\n",
    "    i = np.random.choice(list(range(n+2)), p=weight)\n",
    "    if i==int(n/2+1):\n",
    "        return l[i]\n",
    "    else:\n",
    "        x = np.random.randint(l[i], l[i+1])\n",
    "        return x"
   ]
  },
  {
   "cell_type": "code",
   "execution_count": 547,
   "id": "4d448760",
   "metadata": {},
   "outputs": [],
   "source": [
    "def unboundedDomainRadius(eps, beta, D):\n",
    "    TNoise = 2/eps*LapNoise()\n",
    "    T = len(D)\n",
    "    i=1\n",
    "    while True:\n",
    "        Ti = T-4/eps*np.log(2*i**2 * np.pi**2/(3*beta)) - 2/eps*np.log(4/beta)+TNoise\n",
    "        if i==1:\n",
    "            Qi = count(abs(D),0,0)+4/eps*LapNoise()\n",
    "        else:\n",
    "            Qi = count(abs(D),0, math.pow(2, i-2))+4/eps*LapNoise()\n",
    "\n",
    "        if Qi>Ti:\n",
    "            break\n",
    "        else:\n",
    "            i+=1\n",
    "            \n",
    "    if i==1:\n",
    "        return 0\n",
    "    else:\n",
    "        return math.pow(2,i-1)"
   ]
  },
  {
   "cell_type": "code",
   "execution_count": 548,
   "id": "e1e618f3",
   "metadata": {},
   "outputs": [],
   "source": [
    "def unboundedDomainShiftedMean(eps, beta, b, D):\n",
    "    n = len(D)\n",
    "    intD = discretize(D,b)\n",
    "    rad = unboundedDomainRadius(eps/4, beta/4, intD)\n",
    "    clipped = clip(intD,-rad,rad)\n",
    "    interiorPoint = finiteDomainQuantile(eps, beta, n/2, -rad, rad, intD)\n",
    "    shifted = clipped - interiorPoint\n",
    "    width = unboundedDomainRadius(eps/4, beta/4, shifted)\n",
    "\n",
    "    DforMean = clip(D, interiorPoint*b -width*b-2*b, interiorPoint*b +width*b+2*b)\n",
    "    noisyMu = sum(DforMean)/n+8*(width*b+b)/(eps*n)*LapNoise()\n",
    "    error = abs(noisyMu-sum(D)/n)\n",
    "    #print(\"ratio is \"+ str(8*(width*b+b)*np.log(4/beta)/(eps*n)/error))\n",
    "    indicator = 0\n",
    "    if sum(D)/n<noisyMu +8*(width*b+b)*np.log(4/beta)/(eps*n) and sum(D)/n>noisyMu - 8*(width*b+b)*np.log(4/beta)/(eps*n):\n",
    "        indicator = 1\n",
    "    #return [noisyMu - 8*(width*b+b)*np.log(4/beta)/(eps*n),noisyMu + 8*(width*b+b)*np.log(4/beta)/(eps*n) ]\n",
    "    return error, 8*(width*b+b)*np.log(4/beta)/(eps*n), indicator"
   ]
  },
  {
   "cell_type": "code",
   "execution_count": 549,
   "id": "24048538",
   "metadata": {},
   "outputs": [
    {
     "name": "stdout",
     "output_type": "stream",
     "text": [
      "0.99\n",
      "1.7412899207152888\n"
     ]
    }
   ],
   "source": [
    "errors = []\n",
    "lengths = []\n",
    "countt = 0\n",
    "for i in range(200):\n",
    "    error, length,indi = unboundedDomainShiftedMean(eps, beta, b, D)\n",
    "    countt+=indi\n",
    "    errors.append(error)\n",
    "    lengths.append(length)\n",
    "    \n",
    "print(countt/200)\n",
    "avgLength = sum(lengths)/200\n",
    "errors.sort()\n",
    "errorQuantile = errors[180]\n",
    "print(avgLength/errorQuantile)"
   ]
  },
  {
   "cell_type": "code",
   "execution_count": 550,
   "id": "3b9aca1f",
   "metadata": {},
   "outputs": [
    {
     "name": "stdout",
     "output_type": "stream",
     "text": [
      "4.0439662145015225\n"
     ]
    }
   ],
   "source": [
    "print(avgLength/(sum(errors)/200))"
   ]
  },
  {
   "cell_type": "code",
   "execution_count": 551,
   "id": "c2ec76cf",
   "metadata": {},
   "outputs": [
    {
     "name": "stdout",
     "output_type": "stream",
     "text": [
      "1.7412899207152888\n"
     ]
    }
   ],
   "source": [
    "avgLength = sum(lengths)/200\n",
    "errors.sort()\n",
    "errorQuantile = errors[180]\n",
    "print(avgLength/errorQuantile)"
   ]
  },
  {
   "cell_type": "code",
   "execution_count": 588,
   "id": "4489f7b6",
   "metadata": {},
   "outputs": [],
   "source": [
    "def unboundedDomainMedian(eps, beta, b, D):\n",
    "    n = len(D)\n",
    "    intD = discretize(D,b)\n",
    "    rad = unboundedDomainRadius(eps/2, beta/2, intD)\n",
    "    clipped = clip(intD,-rad,rad)\n",
    "    #define utility function\n",
    "    u = np.zeros(n+2)#utility score\n",
    "    l = np.zeros(n+3)#score changing point\n",
    "    l[0] = -rad\n",
    "    for i in range(n+2):\n",
    "        if i<=n/2:\n",
    "            u[i] = -n/2-1+i\n",
    "            l[i+1]= clipped[i]\n",
    "        u[int(n/2+1)] = 0\n",
    "        l[int(n/2+2)] = clipped[int(n/2)]\n",
    "        if i>n/2+1:\n",
    "            u[i] = n/2+1-i\n",
    "            l[i]= clipped[i-2]\n",
    "            \n",
    "    l[n+2] = rad\n",
    "    #define u1\n",
    "    factor = int(26/eps*np.log(4*rad/beta))+1\n",
    "    u1 = np.zeros(n+2)\n",
    "    u2 = np.zeros(n+2)\n",
    "    for i in range(n+2):\n",
    "        if i<=int(n/2):\n",
    "            u1[i] = -abs(u[i]+factor)\n",
    "            u2[i] = u[i]-factor\n",
    "        else:\n",
    "            u1[i] = u[i]-factor\n",
    "            u2[i] = -abs(u[i]+factor)\n",
    "            \n",
    "    weight1 = np.zeros(n+2)\n",
    "    weight2 = np.zeros(n+2)\n",
    "    for i in range(n+2):\n",
    "        weight1[i] = (l[i+1]-l[i])*math.pow(np.e, eps*u1[i]/8)\n",
    "        weight2[i] = (l[i+1]-l[i])*math.pow(np.e, eps*u2[i]/8)\n",
    "    weight1[int(n/2)] = math.pow(np.e, -factor)\n",
    "    weight2[int(n/2)] = math.pow(np.e, -factor)\n",
    "    print(np.argmax(weight1))\n",
    "    print(np.argmax(weight2))\n",
    "    \n",
    "    totalWeight1 = sum(weight1)\n",
    "    totalWeight2 = sum(weight2)\n",
    "    print(totalWeight1,totalWeight2)\n",
    "\n",
    "    weight1 = weight1/totalWeight1\n",
    "    weight2 = weight2/totalWeight2\n",
    "\n",
    "    i1 = np.random.choice(list(range(n+2)), p=weight1)\n",
    "    i2 = np.random.choice(list(range(n+2)), p=weight2)\n",
    "    if i1==int(n/2+1):\n",
    "        x1 = l[i1]\n",
    "    else:\n",
    "        x1 = np.random.randint(l[i1], l[i1+1])\n",
    "    if i2==int(n/2+1):\n",
    "        x2 = l[i2]\n",
    "    else:\n",
    "        x2 = np.random.randint(l[i2], l[i2+1])\n",
    "        \n",
    "        \n",
    "    return x1*b-b,x2*b+b   \n",
    "    "
   ]
  },
  {
   "cell_type": "code",
   "execution_count": 589,
   "id": "d0be9c19",
   "metadata": {},
   "outputs": [
    {
     "name": "stdout",
     "output_type": "stream",
     "text": [
      "702\n",
      "1297\n",
      "2.561525656511233 3.234875743999802\n"
     ]
    }
   ],
   "source": [
    "x1,x2=unboundedDomainMedian(eps, beta, b, D)"
   ]
  },
  {
   "cell_type": "code",
   "execution_count": 590,
   "id": "f63c10ea",
   "metadata": {},
   "outputs": [
    {
     "name": "stdout",
     "output_type": "stream",
     "text": [
      "41.6 57.800000000000004\n",
      "50.31026735213851\n"
     ]
    }
   ],
   "source": [
    "print(x1,x2)\n",
    "print(D[int(n/2)])"
   ]
  },
  {
   "cell_type": "code",
   "execution_count": 555,
   "id": "071a98b9",
   "metadata": {},
   "outputs": [],
   "source": [
    "def smoothMedian(eps, beta, D, GS,delta=0):\n",
    "    #given D, first compute S(D)\n",
    "    n = len(D)\n",
    "    m = int(n/2)\n",
    "    SS = 0\n",
    "    if delta==0:\n",
    "        alpha = eps/12\n",
    "        for k in range(n+1):\n",
    "            for t in range(k+2):\n",
    "                if m+t>n-1:\n",
    "                    rightx = GS\n",
    "                else:\n",
    "                    rightx = D[m+t]\n",
    "                if m+t-k-1 <0:\n",
    "                    leftx = -GS\n",
    "                else:\n",
    "                    leftx = D[m+t-k-1]\n",
    "                temp = math.pow(math.e, -k*alpha)*(rightx-leftx)\n",
    "                SS = max(SS,temp)\n",
    "                \n",
    "        print(SS)\n",
    "        noisySS = SS*math.pow(math.e, 2*alpha/eps*LapNoise()+2*alpha/eps*math.log(2/beta))\n",
    "        print(noisySS)        \n",
    "\n",
    "        Q = D[int(n/2)]+12*SS/eps*np.random.standard_cauchy()\n",
    "        print(Q)\n",
    "\n",
    "        return Q, 12*noisySS/eps*math.tan((2-beta)*math.pi/4)\n",
    "    else:\n",
    "        alpha = eps/(4*math.log(1/delta))\n",
    "        for k in range(n+1):\n",
    "            for t in range(k+2):\n",
    "                if m+t>n-1:\n",
    "                    rightx = GS\n",
    "                else:\n",
    "                    rightx = D[m+t]\n",
    "                if m+t-k-1 <0:\n",
    "                    leftx = 0\n",
    "                else:\n",
    "                    leftx = D[m+t-k-1]\n",
    "                temp = math.pow(math.e, -k*alpha)*(rightx-leftx)\n",
    "                SS = max(SS,temp)\n",
    "        print(SS)\n",
    "        noisySS = SS*math.pow(math.e, 2*alpha/eps*LapNoise()+2*alpha/eps*math.log(2/beta))\n",
    "        print(noisySS) \n",
    "        Q = D[int(n/2)]+4*SS/eps*LapNoise()\n",
    "\n",
    "        return Q, 4*noisySS/eps*math.log(2/beta)\n",
    "    "
   ]
  },
  {
   "cell_type": "code",
   "execution_count": 556,
   "id": "e4d2c82a",
   "metadata": {},
   "outputs": [
    {
     "name": "stdout",
     "output_type": "stream",
     "text": [
      "0.20196986723695756\n",
      "0.3353520500228301\n",
      "40.108442880674446\n"
     ]
    }
   ],
   "source": [
    "Q,l = smoothMedian(eps, beta, D, 1000000)"
   ]
  },
  {
   "cell_type": "code",
   "execution_count": 557,
   "id": "b87ece31",
   "metadata": {},
   "outputs": [
    {
     "name": "stdout",
     "output_type": "stream",
     "text": [
      "40.108442880674446\n",
      "51.13262167543172\n",
      "50.31026735213851\n"
     ]
    }
   ],
   "source": [
    "print(Q)\n",
    "print(l)\n",
    "print(D[int(n/2)])"
   ]
  },
  {
   "cell_type": "code",
   "execution_count": 558,
   "id": "32030fa4",
   "metadata": {},
   "outputs": [
    {
     "name": "stdout",
     "output_type": "stream",
     "text": [
      "0.7059122341772299\n",
      "0.7783771263444565\n"
     ]
    }
   ],
   "source": [
    "Q,l = smoothMedian(eps, beta, D, 1000000,1e-6)"
   ]
  },
  {
   "cell_type": "code",
   "execution_count": 559,
   "id": "643f2c1f",
   "metadata": {},
   "outputs": [
    {
     "name": "stdout",
     "output_type": "stream",
     "text": [
      "50.419547082905446\n",
      "9.327237913545202\n",
      "41.09230916936024\n"
     ]
    }
   ],
   "source": [
    "print(Q)\n",
    "print(l)\n",
    "print(Q-l)"
   ]
  },
  {
   "cell_type": "code",
   "execution_count": 560,
   "id": "0d298cb5",
   "metadata": {},
   "outputs": [],
   "source": [
    "def SVTquantile(eps, beta, D, tau, rad):\n",
    "    TNoise = 2/eps*LapNoise()\n",
    "    T = tau\n",
    "    for i in range(2*rad+1):\n",
    "        Ti = T-4/eps*np.log(2*(i+1)**2 * np.pi**2/(3*beta)) - 2/eps*np.log(4/beta)+TNoise\n",
    "        Qi = count(D, -rad, -rad+i)+4/eps*LapNoise()\n",
    "        if Qi>Ti:\n",
    "            return -rad+i\n"
   ]
  },
  {
   "cell_type": "code",
   "execution_count": 576,
   "id": "bac60c01",
   "metadata": {},
   "outputs": [],
   "source": [
    "def SVTMedian(eps, beta, b, D):\n",
    "    n = len(D)\n",
    "    intD = discretize(D,b)\n",
    "    rad = int(unboundedDomainRadius(eps/2, beta/2, intD))\n",
    "    print(rad)\n",
    "    clipped = clip(intD,-rad,rad)\n",
    "    factor = int(32/eps*math.log(4*(2*rad+1)**2 *math.pi**2/(3*beta))+16/eps*math.log(8/beta))+1\n",
    "    ##Then run SVT, do not double\n",
    "    ##find the n/2 +- factor quantile\n",
    "    T1 = int(n/2)-1\n",
    "    T2 = int(n/2)+factor\n",
    "    XLeft = SVTquantile(eps/4, beta/4, clipped, T1, rad)\n",
    "    print(XLeft)\n",
    "    XRight = SVTquantile(eps/4, beta/4, clipped, T2, rad)\n",
    "    print(XRight)\n",
    "    \n",
    "    return XLeft*b-b,XRight*b+b"
   ]
  },
  {
   "cell_type": "code",
   "execution_count": 595,
   "id": "150092a2",
   "metadata": {},
   "outputs": [
    {
     "name": "stdout",
     "output_type": "stream",
     "text": [
      "2048\n",
      "402\n",
      "590\n"
     ]
    }
   ],
   "source": [
    "XLeft,XRight = SVTMedian(eps, beta, b, D)"
   ]
  },
  {
   "cell_type": "code",
   "execution_count": 596,
   "id": "5c5502a1",
   "metadata": {},
   "outputs": [
    {
     "name": "stdout",
     "output_type": "stream",
     "text": [
      "40.1\n",
      "59.1\n"
     ]
    }
   ],
   "source": [
    "print(XLeft)\n",
    "print(XRight)"
   ]
  },
  {
   "cell_type": "code",
   "execution_count": 579,
   "id": "93db798b",
   "metadata": {},
   "outputs": [
    {
     "data": {
      "text/plain": [
       "50.31026735213851"
      ]
     },
     "execution_count": 579,
     "metadata": {},
     "output_type": "execute_result"
    }
   ],
   "source": [
    "D[int(n/2)]"
   ]
  },
  {
   "cell_type": "code",
   "execution_count": 575,
   "id": "89d97a5c",
   "metadata": {},
   "outputs": [
    {
     "data": {
      "text/plain": [
       "array([-313., -144., -142., ..., 1113., 1127., 1183.])"
      ]
     },
     "execution_count": 575,
     "metadata": {},
     "output_type": "execute_result"
    }
   ],
   "source": [
    "intD"
   ]
  },
  {
   "cell_type": "code",
   "execution_count": 593,
   "id": "12a1314c",
   "metadata": {},
   "outputs": [
    {
     "data": {
      "text/plain": [
       "455.37357506854556"
      ]
     },
     "execution_count": 593,
     "metadata": {},
     "output_type": "execute_result"
    }
   ],
   "source": [
    "32*math.log(1280*1183)"
   ]
  },
  {
   "cell_type": "code",
   "execution_count": 594,
   "id": "d038e509",
   "metadata": {},
   "outputs": [
    {
     "data": {
      "text/plain": [
       "20.912130275824524"
      ]
     },
     "execution_count": 594,
     "metadata": {},
     "output_type": "execute_result"
    }
   ],
   "source": [
    "D[1400]-D[600]"
   ]
  },
  {
   "cell_type": "code",
   "execution_count": null,
   "id": "ba763bdc",
   "metadata": {},
   "outputs": [],
   "source": []
  }
 ],
 "metadata": {
  "kernelspec": {
   "display_name": "Python 3",
   "language": "python",
   "name": "python3"
  },
  "language_info": {
   "codemirror_mode": {
    "name": "ipython",
    "version": 3
   },
   "file_extension": ".py",
   "mimetype": "text/x-python",
   "name": "python",
   "nbconvert_exporter": "python",
   "pygments_lexer": "ipython3",
   "version": "3.8.8"
  }
 },
 "nbformat": 4,
 "nbformat_minor": 5
}
