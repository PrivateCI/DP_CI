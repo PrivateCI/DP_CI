{
 "cells": [
  {
   "cell_type": "code",
   "execution_count": 16,
   "id": "ed593471",
   "metadata": {},
   "outputs": [],
   "source": [
    "import random\n",
    "import math\n",
    "import numpy as np\n",
    "import copy\n",
    "import getopt\n",
    "import psycopg2\n",
    "import sys\n",
    "import time\n",
    "import scipy\n"
   ]
  },
  {
   "cell_type": "code",
   "execution_count": 104,
   "id": "73767a39",
   "metadata": {},
   "outputs": [],
   "source": [
    "def LapNoise():\n",
    "    a = random.uniform(0,1)\n",
    "    b = math.log(1/(1-a))\n",
    "    c = random.uniform(0,1)\n",
    "    if c>0.5:\n",
    "        return b\n",
    "    else:\n",
    "        return -b\n",
    "    \n",
    "def F(x):\n",
    "    return 1/2+1/(4*math.pi)*(math.log(abs(2*x**2+2*math.sqrt(2)*x+2)/abs(abs(2*x**2-2*math.sqrt(2)*x+2)))+2*math.atan(math.sqrt(2)*x+1)+2*math.atan(math.sqrt(2)*x-1))\n",
    "def inver_F(y):\n",
    "    #find the solution of F(x)=y\n",
    "    #Find between -1000000 and 1000000 because F(1000000)=1.0 in python\n",
    "    if y>1/2:\n",
    "        low =0.0\n",
    "        high = 1000000.0\n",
    "        mid = (high+low)/2\n",
    "        while abs(high-low)>0.0000001:\n",
    "            if F(mid)>y:\n",
    "                high=mid\n",
    "            elif F(mid)==y:\n",
    "                return mid\n",
    "            else: \n",
    "                low = mid\n",
    "            mid = (high+low)/2\n",
    "            \n",
    "        return high\n",
    "    if y==1/2:\n",
    "        return 0\n",
    "    \n",
    "def CauchyNoise():\n",
    "    a = random.uniform(0.5,1)\n",
    "    b = inver_F(a)\n",
    "    c = random.uniform(0,1)\n",
    "    if c>0.5:\n",
    "        return b\n",
    "    else:\n",
    "        return -b"
   ]
  },
  {
   "cell_type": "code",
   "execution_count": 133,
   "id": "726c3826",
   "metadata": {},
   "outputs": [],
   "source": [
    "def residual(eps, beta,delta=0):\n",
    "    #in our experiments, we only use delat=0 and 1e-6\n",
    "    real_Q = 6001215\n",
    "    if delta==0:\n",
    "        alpha = eps/20\n",
    "        SS = 694\n",
    "                \n",
    "        noisySS = SS*math.pow(math.e, 2*alpha/eps*LapNoise()+2*alpha/eps*math.log(2/beta))\n",
    "\n",
    "        Q = real_Q+20*SS/eps*CauchyNoise()\n",
    "        #print(Q)\n",
    "        indicator=0\n",
    "        if real_Q<=Q+ 20*noisySS/eps*inver_F(1-beta/4) and real_Q>=Q-20*noisySS/eps*inver_F(1-beta/4):\n",
    "            indicator=1\n",
    "\n",
    "        return Q, 20*noisySS/eps*inver_F(1-beta/4),indicator\n",
    "    else:\n",
    "        alpha = eps/(4*math.log(1/delta))\n",
    "        SS = 12998\n",
    "        noisySS = SS*math.pow(math.e, 2*alpha/eps*LapNoise()+2*alpha/eps*math.log(2/beta))\n",
    "        #print(noisySS) \n",
    "        Q = real_Q+4*SS/eps*LapNoise()\n",
    "        \n",
    "        \n",
    "        indicator=0\n",
    "        if real_Q<=Q+ 4*noisySS/eps*math.log(2/beta) and real_Q>=Q-4*noisySS/eps*math.log(2/beta):\n",
    "            indicator=1\n",
    "\n",
    "        return Q, 4*noisySS/eps*math.log(2/beta),indicator"
   ]
  },
  {
   "cell_type": "code",
   "execution_count": 134,
   "id": "f5af64b0",
   "metadata": {},
   "outputs": [
    {
     "name": "stdout",
     "output_type": "stream",
     "text": [
      "Results for Smooth based TPCH query, pure DP\n",
      "correct rate = 0.98\n",
      "Average CI length = 33491.79435134671\n",
      "90% error is 20720.74384841509\n",
      "CI length/90% error = 1.6163413145956371\n"
     ]
    }
   ],
   "source": [
    "print(\"Results for Smooth based TPCH query, pure DP\")\n",
    "errors = []\n",
    "lengths = []\n",
    "correct_count = 0\n",
    "num_repeat=100\n",
    "for i in range(num_repeat):\n",
    "    Q,length,indi = residual(eps=1, beta=0.1,delta=0)\n",
    "    correct_count+=indi\n",
    "    errors.append(abs(Q-6001215))\n",
    "    lengths.append(length)\n",
    "    \n",
    "print(\"correct rate = \" +str(correct_count/num_repeat))\n",
    "avgLength = sum(lengths)/num_repeat\n",
    "errors.sort()\n",
    "errorQuantile = errors[int(num_repeat*0.9)]\n",
    "print(\"Average CI length = \"+str(avgLength))\n",
    "print(\"90% error is \"+ str(errorQuantile))\n",
    "print(\"CI length/90% error = \"+str(avgLength/errorQuantile))"
   ]
  },
  {
   "cell_type": "code",
   "execution_count": 135,
   "id": "b5ad45e7",
   "metadata": {},
   "outputs": [
    {
     "name": "stdout",
     "output_type": "stream",
     "text": [
      "Results for Smooth based TPCH query, approximate DP\n",
      "correct rate = 0.95\n",
      "Average CI length = 172039.9366203748\n",
      "90% error is 134509.13164822385\n",
      "CI length/90% error = 1.2790204985510107\n"
     ]
    }
   ],
   "source": [
    "print(\"Results for Smooth based TPCH query, approximate DP\")\n",
    "errors = []\n",
    "lengths = []\n",
    "correct_count = 0\n",
    "num_repeat=100\n",
    "for i in range(num_repeat):\n",
    "    Q,length,indi = residual(eps=1, beta=0.1,delta=0.0000001)\n",
    "    correct_count+=indi\n",
    "    errors.append(abs(Q-6001215))\n",
    "    lengths.append(length)\n",
    "    \n",
    "print(\"correct rate = \" +str(correct_count/num_repeat))\n",
    "avgLength = sum(lengths)/num_repeat\n",
    "errors.sort()\n",
    "errorQuantile = errors[int(num_repeat*0.9)]\n",
    "print(\"Average CI length = \"+str(avgLength))\n",
    "print(\"90% error is \"+ str(errorQuantile))\n",
    "print(\"CI length/90% error = \"+str(avgLength/errorQuantile))"
   ]
  },
  {
   "cell_type": "code",
   "execution_count": 138,
   "id": "e101a2a2",
   "metadata": {},
   "outputs": [
    {
     "data": {
      "text/plain": [
       "0.015510517210830422"
      ]
     },
     "execution_count": 138,
     "metadata": {},
     "output_type": "execute_result"
    }
   ],
   "source": [
    "1/(4*math.log(1/0.0000001))"
   ]
  },
  {
   "cell_type": "code",
   "execution_count": null,
   "id": "2ad90100",
   "metadata": {},
   "outputs": [],
   "source": []
  }
 ],
 "metadata": {
  "kernelspec": {
   "display_name": "Python 3",
   "language": "python",
   "name": "python3"
  },
  "language_info": {
   "codemirror_mode": {
    "name": "ipython",
    "version": 3
   },
   "file_extension": ".py",
   "mimetype": "text/x-python",
   "name": "python",
   "nbconvert_exporter": "python",
   "pygments_lexer": "ipython3",
   "version": "3.8.8"
  }
 },
 "nbformat": 4,
 "nbformat_minor": 5
}
